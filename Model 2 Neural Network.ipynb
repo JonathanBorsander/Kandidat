{
 "cells": [
  {
   "cell_type": "code",
   "execution_count": 31,
   "id": "3722da5e",
   "metadata": {},
   "outputs": [],
   "source": [
    "import numpy as np\n",
    "import pandas as pd\n",
    "from tensorflow.keras.models import Sequential\n",
    "from tensorflow.keras.layers import Dense\n",
    "import matplotlib.pyplot as plt\n",
    "import h5py\n",
    "import os\n",
    "from sklearn.preprocessing import StandardScaler\n",
    "working_directory = os.getcwd()\n"
   ]
  },
  {
   "cell_type": "code",
   "execution_count": 32,
   "id": "eeacd3e6",
   "metadata": {},
   "outputs": [],
   "source": [
    "# Reading in the file and assigning variable names for the first output, gam_BG_k0_s0\n",
    "path_train = '/Downloads/train50k_clean_qlk_v262_jet_dataset_kspectra.h5'\n",
    "path_test = '/Downloads/test50k_clean_qlk_v262_jet_dataset_kspectra.h5'\n",
    "#Standard scaling meaning all elements are changed according to the equation: \n",
    "# x = x-x_mean/(std) where std is standard deviation and x_mean is the mean value of all elements.\n",
    "scaler_input = StandardScaler()\n",
    "scaler_output = StandardScaler()\n",
    "\n",
    "f = h5py.File(working_directory+path_train, 'r')\n",
    "input_params = f['input']['axis0'][...]\n",
    "input_train = f['input']['block0_values'][...]\n",
    "#saves scaling values\n",
    "scaler_input = scaler_input.fit(input_train)\n",
    "standardized_input_train = scaler_input.transform(input_train)\n",
    "output_param = f['spectrum']['axis0'][...]\n",
    "output_train = f['spectrum']['block0_values'][...]\n",
    "scaler_output = scaler_output.fit(output_train)\n",
    "standardized_output_train = scaler_output.transform(output_train)\n",
    "f.close()\n",
    "f = h5py.File(working_directory+path_test, 'r')\n",
    "input_test = f['input']['block0_values'][...]\n",
    "output_test = f['spectrum']['block0_values'][...]\n",
    "standardized_input_test = scaler_input.transform(input_test)\n",
    "standardized_output_test = scaler_output.transform(output_test)\n",
    "\n",
    "f.close()\n"
   ]
  },
  {
   "cell_type": "code",
   "execution_count": 33,
   "id": "bbd36aaa",
   "metadata": {},
   "outputs": [],
   "source": [
    "def outputTrainFileReader(column): \n",
    "    f = h5py.File(working_directory+path_train, 'r')\n",
    "    output_train = f['spectrum']['block0_values'][:,column]\n",
    "    # need to reshape to (-1,1) for standardscaler to allow 1D vector.\n",
    "    output_train = output_train.reshape(-1,1) \n",
    "    return scaler_input.fit_transform(output_train)\n",
    "def outputTestFileReader (column, scaler):\n",
    "    scaler_output = scaler\n",
    "    f = h5py.File(working_directory+path_test, 'r')\n",
    "    output_test = f['spectrum']['block0_values'][:,column]\n",
    "    output_test = output_test.reshape(-1,1) \n",
    "    return scaler_output.transform(output_test)\n",
    "    \n",
    "    "
   ]
  },
  {
   "cell_type": "code",
   "execution_count": 34,
   "id": "97e3c905",
   "metadata": {},
   "outputs": [],
   "source": [
    "# Model configuration\n",
    "batch_size = 500\n",
    "loss_function = 'mae'\n",
    "no_epochs = 150\n",
    "optimizer = 'adam'\n",
    "validation_split = 0.2\n",
    "verbosity = 0\n"
   ]
  },
  {
   "cell_type": "code",
   "execution_count": 35,
   "id": "db5e8159",
   "metadata": {},
   "outputs": [],
   "source": [
    "# Create the model\n",
    "model = Sequential()\n",
    "model.add(Dense(100, input_shape=(11,), activation='relu'))\n",
    "model.add(Dense(100, activation='relu'))\n",
    "model.add(Dense(100, activation='relu'))\n",
    "model.add(Dense(1, activation='linear'))\n",
    "# Compile the model\n",
    "model.compile(loss=loss_function,\n",
    "              optimizer=optimizer,\n",
    "              metrics=['accuracy'])\n",
    "\n"
   ]
  },
  {
   "cell_type": "code",
   "execution_count": 50,
   "id": "87dace9e",
   "metadata": {},
   "outputs": [
    {
     "name": "stdout",
     "output_type": "stream",
     "text": [
      "1563/1563 [==============================] - 2s 2ms/step\n",
      "1563/1563 [==============================] - 3s 2ms/step - loss: 0.1537 - accuracy: 0.0000e+00\n",
      "1563/1563 [==============================] - 2s 2ms/step\n",
      "1563/1563 [==============================] - 3s 2ms/step - loss: 0.1621 - accuracy: 0.0000e+00\n",
      "1563/1563 [==============================] - 2s 2ms/step\n",
      "1563/1563 [==============================] - 3s 2ms/step - loss: 0.1639 - accuracy: 0.0000e+00\n"
     ]
    },
    {
     "ename": "KeyboardInterrupt",
     "evalue": "",
     "output_type": "error",
     "traceback": [
      "\u001b[0;31m---------------------------------------------------------------------------\u001b[0m",
      "\u001b[0;31mKeyboardInterrupt\u001b[0m                         Traceback (most recent call last)",
      "\u001b[0;32m/var/folders/c2/mj1fky_12d15k40g3z656b6h0000gn/T/ipykernel_6342/4176639736.py\u001b[0m in \u001b[0;36m<module>\u001b[0;34m\u001b[0m\n\u001b[1;32m      6\u001b[0m     \u001b[0;32mfor\u001b[0m \u001b[0mj\u001b[0m \u001b[0;32min\u001b[0m \u001b[0mrange\u001b[0m \u001b[0;34m(\u001b[0m\u001b[0;36m18\u001b[0m\u001b[0;34m)\u001b[0m\u001b[0;34m:\u001b[0m\u001b[0;34m\u001b[0m\u001b[0;34m\u001b[0m\u001b[0m\n\u001b[1;32m      7\u001b[0m \u001b[0;34m\u001b[0m\u001b[0m\n\u001b[0;32m----> 8\u001b[0;31m         history = model.fit(standardized_input_train, standardized_output_train[:,18*i+j],\n\u001b[0m\u001b[1;32m      9\u001b[0m                 \u001b[0mbatch_size\u001b[0m\u001b[0;34m=\u001b[0m\u001b[0mbatch_size\u001b[0m\u001b[0;34m,\u001b[0m\u001b[0;34m\u001b[0m\u001b[0;34m\u001b[0m\u001b[0m\n\u001b[1;32m     10\u001b[0m                 \u001b[0mepochs\u001b[0m\u001b[0;34m=\u001b[0m\u001b[0mno_epochs\u001b[0m\u001b[0;34m,\u001b[0m\u001b[0;34m\u001b[0m\u001b[0;34m\u001b[0m\u001b[0m\n",
      "\u001b[0;32m~/opt/anaconda3/lib/python3.9/site-packages/keras/utils/traceback_utils.py\u001b[0m in \u001b[0;36merror_handler\u001b[0;34m(*args, **kwargs)\u001b[0m\n\u001b[1;32m     63\u001b[0m         \u001b[0mfiltered_tb\u001b[0m \u001b[0;34m=\u001b[0m \u001b[0;32mNone\u001b[0m\u001b[0;34m\u001b[0m\u001b[0;34m\u001b[0m\u001b[0m\n\u001b[1;32m     64\u001b[0m         \u001b[0;32mtry\u001b[0m\u001b[0;34m:\u001b[0m\u001b[0;34m\u001b[0m\u001b[0;34m\u001b[0m\u001b[0m\n\u001b[0;32m---> 65\u001b[0;31m             \u001b[0;32mreturn\u001b[0m \u001b[0mfn\u001b[0m\u001b[0;34m(\u001b[0m\u001b[0;34m*\u001b[0m\u001b[0margs\u001b[0m\u001b[0;34m,\u001b[0m \u001b[0;34m**\u001b[0m\u001b[0mkwargs\u001b[0m\u001b[0;34m)\u001b[0m\u001b[0;34m\u001b[0m\u001b[0;34m\u001b[0m\u001b[0m\n\u001b[0m\u001b[1;32m     66\u001b[0m         \u001b[0;32mexcept\u001b[0m \u001b[0mException\u001b[0m \u001b[0;32mas\u001b[0m \u001b[0me\u001b[0m\u001b[0;34m:\u001b[0m\u001b[0;34m\u001b[0m\u001b[0;34m\u001b[0m\u001b[0m\n\u001b[1;32m     67\u001b[0m             \u001b[0mfiltered_tb\u001b[0m \u001b[0;34m=\u001b[0m \u001b[0m_process_traceback_frames\u001b[0m\u001b[0;34m(\u001b[0m\u001b[0me\u001b[0m\u001b[0;34m.\u001b[0m\u001b[0m__traceback__\u001b[0m\u001b[0;34m)\u001b[0m\u001b[0;34m\u001b[0m\u001b[0;34m\u001b[0m\u001b[0m\n",
      "\u001b[0;32m~/opt/anaconda3/lib/python3.9/site-packages/keras/engine/training.py\u001b[0m in \u001b[0;36mfit\u001b[0;34m(self, x, y, batch_size, epochs, verbose, callbacks, validation_split, validation_data, shuffle, class_weight, sample_weight, initial_epoch, steps_per_epoch, validation_steps, validation_batch_size, validation_freq, max_queue_size, workers, use_multiprocessing)\u001b[0m\n\u001b[1;32m   1648\u001b[0m                         ):\n\u001b[1;32m   1649\u001b[0m                             \u001b[0mcallbacks\u001b[0m\u001b[0;34m.\u001b[0m\u001b[0mon_train_batch_begin\u001b[0m\u001b[0;34m(\u001b[0m\u001b[0mstep\u001b[0m\u001b[0;34m)\u001b[0m\u001b[0;34m\u001b[0m\u001b[0;34m\u001b[0m\u001b[0m\n\u001b[0;32m-> 1650\u001b[0;31m                             \u001b[0mtmp_logs\u001b[0m \u001b[0;34m=\u001b[0m \u001b[0mself\u001b[0m\u001b[0;34m.\u001b[0m\u001b[0mtrain_function\u001b[0m\u001b[0;34m(\u001b[0m\u001b[0miterator\u001b[0m\u001b[0;34m)\u001b[0m\u001b[0;34m\u001b[0m\u001b[0;34m\u001b[0m\u001b[0m\n\u001b[0m\u001b[1;32m   1651\u001b[0m                             \u001b[0;32mif\u001b[0m \u001b[0mdata_handler\u001b[0m\u001b[0;34m.\u001b[0m\u001b[0mshould_sync\u001b[0m\u001b[0;34m:\u001b[0m\u001b[0;34m\u001b[0m\u001b[0;34m\u001b[0m\u001b[0m\n\u001b[1;32m   1652\u001b[0m                                 \u001b[0mcontext\u001b[0m\u001b[0;34m.\u001b[0m\u001b[0masync_wait\u001b[0m\u001b[0;34m(\u001b[0m\u001b[0;34m)\u001b[0m\u001b[0;34m\u001b[0m\u001b[0;34m\u001b[0m\u001b[0m\n",
      "\u001b[0;32m~/opt/anaconda3/lib/python3.9/site-packages/tensorflow/python/util/traceback_utils.py\u001b[0m in \u001b[0;36merror_handler\u001b[0;34m(*args, **kwargs)\u001b[0m\n\u001b[1;32m    148\u001b[0m     \u001b[0mfiltered_tb\u001b[0m \u001b[0;34m=\u001b[0m \u001b[0;32mNone\u001b[0m\u001b[0;34m\u001b[0m\u001b[0;34m\u001b[0m\u001b[0m\n\u001b[1;32m    149\u001b[0m     \u001b[0;32mtry\u001b[0m\u001b[0;34m:\u001b[0m\u001b[0;34m\u001b[0m\u001b[0;34m\u001b[0m\u001b[0m\n\u001b[0;32m--> 150\u001b[0;31m       \u001b[0;32mreturn\u001b[0m \u001b[0mfn\u001b[0m\u001b[0;34m(\u001b[0m\u001b[0;34m*\u001b[0m\u001b[0margs\u001b[0m\u001b[0;34m,\u001b[0m \u001b[0;34m**\u001b[0m\u001b[0mkwargs\u001b[0m\u001b[0;34m)\u001b[0m\u001b[0;34m\u001b[0m\u001b[0;34m\u001b[0m\u001b[0m\n\u001b[0m\u001b[1;32m    151\u001b[0m     \u001b[0;32mexcept\u001b[0m \u001b[0mException\u001b[0m \u001b[0;32mas\u001b[0m \u001b[0me\u001b[0m\u001b[0;34m:\u001b[0m\u001b[0;34m\u001b[0m\u001b[0;34m\u001b[0m\u001b[0m\n\u001b[1;32m    152\u001b[0m       \u001b[0mfiltered_tb\u001b[0m \u001b[0;34m=\u001b[0m \u001b[0m_process_traceback_frames\u001b[0m\u001b[0;34m(\u001b[0m\u001b[0me\u001b[0m\u001b[0;34m.\u001b[0m\u001b[0m__traceback__\u001b[0m\u001b[0;34m)\u001b[0m\u001b[0;34m\u001b[0m\u001b[0;34m\u001b[0m\u001b[0m\n",
      "\u001b[0;32m~/opt/anaconda3/lib/python3.9/site-packages/tensorflow/python/eager/polymorphic_function/polymorphic_function.py\u001b[0m in \u001b[0;36m__call__\u001b[0;34m(self, *args, **kwds)\u001b[0m\n\u001b[1;32m    878\u001b[0m \u001b[0;34m\u001b[0m\u001b[0m\n\u001b[1;32m    879\u001b[0m       \u001b[0;32mwith\u001b[0m \u001b[0mOptionalXlaContext\u001b[0m\u001b[0;34m(\u001b[0m\u001b[0mself\u001b[0m\u001b[0;34m.\u001b[0m\u001b[0m_jit_compile\u001b[0m\u001b[0;34m)\u001b[0m\u001b[0;34m:\u001b[0m\u001b[0;34m\u001b[0m\u001b[0;34m\u001b[0m\u001b[0m\n\u001b[0;32m--> 880\u001b[0;31m         \u001b[0mresult\u001b[0m \u001b[0;34m=\u001b[0m \u001b[0mself\u001b[0m\u001b[0;34m.\u001b[0m\u001b[0m_call\u001b[0m\u001b[0;34m(\u001b[0m\u001b[0;34m*\u001b[0m\u001b[0margs\u001b[0m\u001b[0;34m,\u001b[0m \u001b[0;34m**\u001b[0m\u001b[0mkwds\u001b[0m\u001b[0;34m)\u001b[0m\u001b[0;34m\u001b[0m\u001b[0;34m\u001b[0m\u001b[0m\n\u001b[0m\u001b[1;32m    881\u001b[0m \u001b[0;34m\u001b[0m\u001b[0m\n\u001b[1;32m    882\u001b[0m       \u001b[0mnew_tracing_count\u001b[0m \u001b[0;34m=\u001b[0m \u001b[0mself\u001b[0m\u001b[0;34m.\u001b[0m\u001b[0mexperimental_get_tracing_count\u001b[0m\u001b[0;34m(\u001b[0m\u001b[0;34m)\u001b[0m\u001b[0;34m\u001b[0m\u001b[0;34m\u001b[0m\u001b[0m\n",
      "\u001b[0;32m~/opt/anaconda3/lib/python3.9/site-packages/tensorflow/python/eager/polymorphic_function/polymorphic_function.py\u001b[0m in \u001b[0;36m_call\u001b[0;34m(self, *args, **kwds)\u001b[0m\n\u001b[1;32m    910\u001b[0m       \u001b[0;31m# In this case we have created variables on the first call, so we run the\u001b[0m\u001b[0;34m\u001b[0m\u001b[0;34m\u001b[0m\u001b[0m\n\u001b[1;32m    911\u001b[0m       \u001b[0;31m# defunned version which is guaranteed to never create variables.\u001b[0m\u001b[0;34m\u001b[0m\u001b[0;34m\u001b[0m\u001b[0m\n\u001b[0;32m--> 912\u001b[0;31m       \u001b[0;32mreturn\u001b[0m \u001b[0mself\u001b[0m\u001b[0;34m.\u001b[0m\u001b[0m_no_variable_creation_fn\u001b[0m\u001b[0;34m(\u001b[0m\u001b[0;34m*\u001b[0m\u001b[0margs\u001b[0m\u001b[0;34m,\u001b[0m \u001b[0;34m**\u001b[0m\u001b[0mkwds\u001b[0m\u001b[0;34m)\u001b[0m  \u001b[0;31m# pylint: disable=not-callable\u001b[0m\u001b[0;34m\u001b[0m\u001b[0;34m\u001b[0m\u001b[0m\n\u001b[0m\u001b[1;32m    913\u001b[0m     \u001b[0;32melif\u001b[0m \u001b[0mself\u001b[0m\u001b[0;34m.\u001b[0m\u001b[0m_variable_creation_fn\u001b[0m \u001b[0;32mis\u001b[0m \u001b[0;32mnot\u001b[0m \u001b[0;32mNone\u001b[0m\u001b[0;34m:\u001b[0m\u001b[0;34m\u001b[0m\u001b[0;34m\u001b[0m\u001b[0m\n\u001b[1;32m    914\u001b[0m       \u001b[0;31m# Release the lock early so that multiple threads can perform the call\u001b[0m\u001b[0;34m\u001b[0m\u001b[0;34m\u001b[0m\u001b[0m\n",
      "\u001b[0;32m~/opt/anaconda3/lib/python3.9/site-packages/tensorflow/python/eager/polymorphic_function/tracing_compiler.py\u001b[0m in \u001b[0;36m__call__\u001b[0;34m(self, *args, **kwargs)\u001b[0m\n\u001b[1;32m    132\u001b[0m       (concrete_function,\n\u001b[1;32m    133\u001b[0m        filtered_flat_args) = self._maybe_define_function(args, kwargs)\n\u001b[0;32m--> 134\u001b[0;31m     return concrete_function._call_flat(\n\u001b[0m\u001b[1;32m    135\u001b[0m         filtered_flat_args, captured_inputs=concrete_function.captured_inputs)  # pylint: disable=protected-access\n\u001b[1;32m    136\u001b[0m \u001b[0;34m\u001b[0m\u001b[0m\n",
      "\u001b[0;32m~/opt/anaconda3/lib/python3.9/site-packages/tensorflow/python/eager/polymorphic_function/monomorphic_function.py\u001b[0m in \u001b[0;36m_call_flat\u001b[0;34m(self, args, captured_inputs, cancellation_manager)\u001b[0m\n\u001b[1;32m   1743\u001b[0m         and executing_eagerly):\n\u001b[1;32m   1744\u001b[0m       \u001b[0;31m# No tape is watching; skip to running the function.\u001b[0m\u001b[0;34m\u001b[0m\u001b[0;34m\u001b[0m\u001b[0m\n\u001b[0;32m-> 1745\u001b[0;31m       return self._build_call_outputs(self._inference_function.call(\n\u001b[0m\u001b[1;32m   1746\u001b[0m           ctx, args, cancellation_manager=cancellation_manager))\n\u001b[1;32m   1747\u001b[0m     forward_backward = self._select_forward_and_backward_functions(\n",
      "\u001b[0;32m~/opt/anaconda3/lib/python3.9/site-packages/tensorflow/python/eager/polymorphic_function/monomorphic_function.py\u001b[0m in \u001b[0;36mcall\u001b[0;34m(self, ctx, args, cancellation_manager)\u001b[0m\n\u001b[1;32m    376\u001b[0m       \u001b[0;32mwith\u001b[0m \u001b[0m_InterpolateFunctionError\u001b[0m\u001b[0;34m(\u001b[0m\u001b[0mself\u001b[0m\u001b[0;34m)\u001b[0m\u001b[0;34m:\u001b[0m\u001b[0;34m\u001b[0m\u001b[0;34m\u001b[0m\u001b[0m\n\u001b[1;32m    377\u001b[0m         \u001b[0;32mif\u001b[0m \u001b[0mcancellation_manager\u001b[0m \u001b[0;32mis\u001b[0m \u001b[0;32mNone\u001b[0m\u001b[0;34m:\u001b[0m\u001b[0;34m\u001b[0m\u001b[0;34m\u001b[0m\u001b[0m\n\u001b[0;32m--> 378\u001b[0;31m           outputs = execute.execute(\n\u001b[0m\u001b[1;32m    379\u001b[0m               \u001b[0mstr\u001b[0m\u001b[0;34m(\u001b[0m\u001b[0mself\u001b[0m\u001b[0;34m.\u001b[0m\u001b[0msignature\u001b[0m\u001b[0;34m.\u001b[0m\u001b[0mname\u001b[0m\u001b[0;34m)\u001b[0m\u001b[0;34m,\u001b[0m\u001b[0;34m\u001b[0m\u001b[0;34m\u001b[0m\u001b[0m\n\u001b[1;32m    380\u001b[0m               \u001b[0mnum_outputs\u001b[0m\u001b[0;34m=\u001b[0m\u001b[0mself\u001b[0m\u001b[0;34m.\u001b[0m\u001b[0m_num_outputs\u001b[0m\u001b[0;34m,\u001b[0m\u001b[0;34m\u001b[0m\u001b[0;34m\u001b[0m\u001b[0m\n",
      "\u001b[0;32m~/opt/anaconda3/lib/python3.9/site-packages/tensorflow/python/eager/execute.py\u001b[0m in \u001b[0;36mquick_execute\u001b[0;34m(op_name, num_outputs, inputs, attrs, ctx, name)\u001b[0m\n\u001b[1;32m     50\u001b[0m   \u001b[0;32mtry\u001b[0m\u001b[0;34m:\u001b[0m\u001b[0;34m\u001b[0m\u001b[0;34m\u001b[0m\u001b[0m\n\u001b[1;32m     51\u001b[0m     \u001b[0mctx\u001b[0m\u001b[0;34m.\u001b[0m\u001b[0mensure_initialized\u001b[0m\u001b[0;34m(\u001b[0m\u001b[0;34m)\u001b[0m\u001b[0;34m\u001b[0m\u001b[0;34m\u001b[0m\u001b[0m\n\u001b[0;32m---> 52\u001b[0;31m     tensors = pywrap_tfe.TFE_Py_Execute(ctx._handle, device_name, op_name,\n\u001b[0m\u001b[1;32m     53\u001b[0m                                         inputs, attrs, num_outputs)\n\u001b[1;32m     54\u001b[0m   \u001b[0;32mexcept\u001b[0m \u001b[0mcore\u001b[0m\u001b[0;34m.\u001b[0m\u001b[0m_NotOkStatusException\u001b[0m \u001b[0;32mas\u001b[0m \u001b[0me\u001b[0m\u001b[0;34m:\u001b[0m\u001b[0;34m\u001b[0m\u001b[0;34m\u001b[0m\u001b[0m\n",
      "\u001b[0;31mKeyboardInterrupt\u001b[0m: "
     ]
    }
   ],
   "source": [
    "# Fit data to model\n",
    "MAE_titles = ['Gam_s0', 'Ome_s0', 'Gam_s1', 'Ome_s1']\n",
    "x = range(18)\n",
    "for i in range(4):\n",
    "    MAE_list = []\n",
    "    for j in range (18):\n",
    "        \n",
    "        history = model.fit(standardized_input_train, standardized_output_train[:,18*i+j],\n",
    "                batch_size=batch_size,\n",
    "                epochs=no_epochs,\n",
    "                verbose = verbosity,\n",
    "                validation_split=validation_split)\n",
    "        predictions = model.predict(standardized_input_train)\n",
    "        loss,_ = model.evaluate(standardized_input_test,standardized_output_test[:,18*i+j])\n",
    "        MAE_list.append(loss)\n",
    "        fig, ax = plt.subplots()\n",
    "        ax.scatter(predictions,standardized_output_test[:,18*i+j])\n",
    "        ax.set_xlabel('Predicted values', \n",
    "                   fontweight ='bold')\n",
    "        ax.set_ylabel('Actual values')\n",
    "        ax.set_title(output_param[i])\n",
    "        plt.savefig(str(output_param[i])+ '72NN.jpg')\n",
    "        plt.close()\n",
    "    fig, ax = plt.subplots()\n",
    "    ax.scatter(x,MAE_list)\n",
    "    ax.plot(x,MAE_list)\n",
    "    #ax.scatter(x,Malte_MAE_list)\n",
    "    #ax.plot(x,Malte_MAE_list)\n",
    "    ax.set_xlabel('K_rho', \n",
    "                   fontweight ='bold')\n",
    "    ax.set_ylabel('Mean absolute error')\n",
    "    ax.set_title(MAE_titles[i])\n",
    "    plt.savefig(MAE_titles[i]+'.jpg')\n",
    "    plt.show()"
   ]
  },
  {
   "cell_type": "code",
   "execution_count": 47,
   "id": "aac9c397",
   "metadata": {},
   "outputs": [
    {
     "data": {
      "image/png": "[encoded data removed]",
      "text/plain": [
       "<Figure size 432x288 with 1 Axes>"
      ]
     },
     "metadata": {
      "needs_background": "light"
     },
     "output_type": "display_data"
    }
   ],
   "source": [
    "x = range(18)\n",
    "Malte_MAE_list = [3.411759436130523682e-01,\n",
    "3.262131512165069580e-01,\n",
    "3.199368417263031006e-01,\n",
    "3.216458261013031006e-01,\n",
    "3.216275870800018311e-01,\n",
    "3.518010377883911133e-01,\n",
    "3.846131563186645508e-01,\n",
    "3.625447750091552734e-01,\n",
    "2.253041714429855347e-01,\n",
    "1.000245586037635803e-01,\n",
    "3.389628529548645020e-01,\n",
    "3.746427595615386963e-01,\n",
    "3.772702515125274658e-01,\n",
    "3.879458606243133545e-01,\n",
    "3.960612416267395020e-01,\n",
    "3.832634687423706055e-01,\n",
    "3.358456790447235107e-01,\n",
    "2.516548335552215576e-01]\n"
   ]
  },
  {
   "cell_type": "code",
   "execution_count": null,
   "id": "d05a134c",
   "metadata": {},
   "outputs": [],
   "source": [
    "#All code in single cell \n",
    "\n",
    "import numpy as np\n",
    "import pandas as pd\n",
    "from tensorflow.keras.models import Sequential\n",
    "from tensorflow.keras.layers import Dense\n",
    "import matplotlib.pyplot as plt\n",
    "import h5py\n",
    "import os\n",
    "from sklearn.preprocessing import StandardScaler\n",
    "working_directory = os.getcwd()\n",
    "# Reading in the file and assigning variable names for the first output, gam_BG_k0_s0\n",
    "path_train = '/Downloads/train50k_clean_qlk_v262_jet_dataset_kspectra.h5'\n",
    "path_test = '/Downloads/test50k_clean_qlk_v262_jet_dataset_kspectra.h5'\n",
    "#Standard scaling meaning all elements are changed according to the equation: \n",
    "# x = x-x_mean/(std) where std is standard deviation and x_mean is the mean value of all elements.\n",
    "scaler = StandardScaler()\n",
    "\n",
    "f = h5py.File(working_directory+path_train, 'r')\n",
    "input_params = f['input']['axis0'][...]\n",
    "input_train = f['input']['block0_values'][...]\n",
    "standardized_input_train = scaler.fit_transform(input_train)\n",
    "output_param = f['spectrum']['axis0'][...]\n",
    "\n",
    "#standardized_output_train = scaler.fit_transform(output_train)\n",
    "f.close()\n",
    "f = f = h5py.File(working_directory+path_test, 'r')\n",
    "input_test = f['input']['block0_values'][...]\n",
    "output_test = f['spectrum']['block0_values'][:,0]\n",
    "f.close()\n",
    "\n",
    "def outputTrainFileReader(column): \n",
    "    f = h5py.File(working_directory+path_train, 'r')\n",
    "    output_train = f['spectrum']['block0_values'][:,column]\n",
    "    # need to reshape to (-1,1) for standardscaler to allow 1D vector.\n",
    "    output_train = output_train.reshape(-1,1) \n",
    "    return scaler.fit_transform(output_train)\n",
    "# Model configuration\n",
    "batch_size = 500\n",
    "loss_function = 'mae'\n",
    "no_epochs = 150\n",
    "optimizer = 'adam'\n",
    "validation_split = 0.2\n",
    "verbosity = 0\n",
    "\n",
    "# Create the model\n",
    "model = Sequential()\n",
    "model.add(Dense(11, input_shape=(11,), activation='relu'))\n",
    "model.add(Dense(32, activation='relu'))\n",
    "model.add(Dense(64, activation='relu'))\n",
    "model.add(Dense(1, activation='linear'))\n",
    "# Compile the model\n",
    "model.compile(loss=loss_function,\n",
    "              optimizer=optimizer,\n",
    "              metrics=['accuracy'])\n",
    "# Fit data to model\n",
    "MAE_list = []\n",
    "for i in range(18):\n",
    "    standardized_output_train = outputTrainFileReader(i)\n",
    "    history = model.fit(standardized_input_train, standardized_output_train,\n",
    "                batch_size=batch_size,\n",
    "                epochs=no_epochs,\n",
    "                verbose = verbosity,\n",
    "                validation_split=validation_split)\n",
    "    predictions = model.predict(standardized_input_train)\n",
    "    loss,_ = model.evaluate(standardized_input_train,standardized_output_train)\n",
    "    MAE_list.append(loss)\n",
    "    fig, ax = plt.subplots()\n",
    "    ax.scatter(predictions,standardized_output_train)\n",
    "    ax.set_xlabel('Predicted values', \n",
    "               fontweight ='bold')\n",
    "    ax.set_ylabel('Actual vales')\n",
    "    ax.set_title(output_param[i])\n",
    "    plt.savefig(str(output_param[i])+ '.jpg')\n",
    "    plt.close()\n",
    "\n",
    "#Mean absolute error plot\n",
    "x = range(18)\n",
    "Malte_MAE_list = [3.411759436130523682e-01,\n",
    "3.262131512165069580e-01,\n",
    "3.199368417263031006e-01,\n",
    "3.216458261013031006e-01,\n",
    "3.216275870800018311e-01,\n",
    "3.518010377883911133e-01,\n",
    "3.846131563186645508e-01,\n",
    "3.625447750091552734e-01,\n",
    "2.253041714429855347e-01,\n",
    "1.000245586037635803e-01,\n",
    "3.389628529548645020e-01,\n",
    "3.746427595615386963e-01,\n",
    "3.772702515125274658e-01,\n",
    "3.879458606243133545e-01,\n",
    "3.960612416267395020e-01,\n",
    "3.832634687423706055e-01,\n",
    "3.358456790447235107e-01,\n",
    "2.516548335552215576e-01]\n",
    "fig, ax = plt.subplots()\n",
    "ax.scatter(x,MAE_list)\n",
    "ax.plot(x,MAE_list)\n",
    "ax.scatter(x,Malte_MAE_list)\n",
    "ax.plot(x,Malte_MAE_list)\n",
    "ax.set_xlabel('K_rho', \n",
    "               fontweight ='bold')\n",
    "ax.set_ylabel('Mean absolute error')\n",
    "ax.set_title('Comparison of MAE: 1 output versus 18 outputs')\n",
    "plt.savefig('MAE_Comparison.jpg')\n",
    "plt.show()\n"
   ]
  },
  {
   "cell_type": "code",
   "execution_count": 52,
   "id": "4596f7fb",
   "metadata": {},
   "outputs": [],
   "source": [
    "x = range(18)"
   ]
  },
  {
   "cell_type": "code",
   "execution_count": 53,
   "id": "0f674bfa",
   "metadata": {},
   "outputs": [
    {
     "name": "stdout",
     "output_type": "stream",
     "text": [
      "range(0, 18)\n"
     ]
    }
   ],
   "source": [
    "print(x)"
   ]
  },
  {
   "cell_type": "code",
   "execution_count": null,
   "id": "7e2fb2b5",
   "metadata": {},
   "outputs": [],
   "source": []
  }
 ],
 "metadata": {
  "kernelspec": {
   "display_name": "Python 3 (ipykernel)",
   "language": "python",
   "name": "python3"
  },
  "language_info": {
   "codemirror_mode": {
    "name": "ipython",
    "version": 3
   },
   "file_extension": ".py",
   "mimetype": "text/x-python",
   "name": "python",
   "nbconvert_exporter": "python",
   "pygments_lexer": "ipython3",
   "version": "3.9.7"
  }
 },
 "nbformat": 4,
 "nbformat_minor": 5
}
